{
 "cells": [
  {
   "cell_type": "code",
   "execution_count": 1,
   "id": "20185ef7",
   "metadata": {},
   "outputs": [
    {
     "name": "stdout",
     "output_type": "stream",
     "text": [
      "WARNING:tensorflow:From c:\\Users\\xsb24130\\AppData\\Local\\miniconda3\\envs\\akida-env\\Lib\\site-packages\\keras\\src\\losses.py:2976: The name tf.losses.sparse_softmax_cross_entropy is deprecated. Please use tf.compat.v1.losses.sparse_softmax_cross_entropy instead.\n",
      "\n"
     ]
    },
    {
     "data": {
      "image/png": "[encoded data removed]",
      "text/plain": [
       "<Figure size 640x480 with 4 Axes>"
      ]
     },
     "metadata": {},
     "output_type": "display_data"
    }
   ],
   "source": [
    "import numpy as np\n",
    "\n",
    "import matplotlib.cm as cm\n",
    "import matplotlib.pyplot as plt\n",
    "\n",
    "from keras.datasets import mnist\n",
    "\n",
    "# Load MNIST dataset\n",
    "(x_train, y_train), (x_test, y_test) = mnist.load_data()\n",
    "\n",
    "# Add a channels dimension to the image sets as Akida expects 4-D inputs (corresponding to\n",
    "# (num_samples, width, height, channels). Note: MNIST is a grayscale dataset and is unusual\n",
    "# in this respect - most image data already includes a channel dimension, and this step will\n",
    "# not be necessary.\n",
    "x_train = np.expand_dims(x_train, -1)\n",
    "x_test = np.expand_dims(x_test, -1)\n",
    "\n",
    "# Display a few images from the test set\n",
    "f, axarr = plt.subplots(1, 4)\n",
    "for i in range(0, 4):\n",
    "    axarr[i].imshow(x_test[i].reshape((28, 28)), cmap=cm.Greys_r)\n",
    "    axarr[i].set_title('Class %d' % y_test[i])\n",
    "plt.show()"
   ]
  },
  {
   "cell_type": "code",
   "execution_count": 2,
   "id": "3ee53829",
   "metadata": {},
   "outputs": [
    {
     "name": "stdout",
     "output_type": "stream",
     "text": [
      "WARNING:tensorflow:From c:\\Users\\xsb24130\\AppData\\Local\\miniconda3\\envs\\akida-env\\Lib\\site-packages\\keras\\src\\backend.py:873: The name tf.get_default_graph is deprecated. Please use tf.compat.v1.get_default_graph instead.\n",
      "\n",
      "WARNING:tensorflow:From c:\\Users\\xsb24130\\AppData\\Local\\miniconda3\\envs\\akida-env\\Lib\\site-packages\\keras\\src\\layers\\normalization\\batch_normalization.py:979: The name tf.nn.fused_batch_norm is deprecated. Please use tf.compat.v1.nn.fused_batch_norm instead.\n",
      "\n",
      "Model: \"mnistnet\"\n",
      "_________________________________________________________________\n",
      " Layer (type)                Output Shape              Param #   \n",
      "=================================================================\n",
      " rescaling (Rescaling)       (None, 28, 28, 1)         0         \n",
      "                                                                 \n",
      " conv2d (Conv2D)             (None, 13, 13, 32)        320       \n",
      "                                                                 \n",
      " batch_normalization (Batch  (None, 13, 13, 32)        128       \n",
      " Normalization)                                                  \n",
      "                                                                 \n",
      " re_lu (ReLU)                (None, 13, 13, 32)        0         \n",
      "                                                                 \n",
      " depthwise_conv2d (Depthwis  (None, 7, 7, 32)          320       \n",
      " eConv2D)                                                        \n",
      "                                                                 \n",
      " conv2d_1 (Conv2D)           (None, 7, 7, 64)          2112      \n",
      "                                                                 \n",
      " batch_normalization_1 (Bat  (None, 7, 7, 64)          256       \n",
      " chNormalization)                                                \n",
      "                                                                 \n",
      " re_lu_1 (ReLU)              (None, 7, 7, 64)          0         \n",
      "                                                                 \n",
      " flatten (Flatten)           (None, 3136)              0         \n",
      "                                                                 \n",
      " dense (Dense)               (None, 10)                31370     \n",
      "                                                                 \n",
      "=================================================================\n",
      "Total params: 34506 (134.79 KB)\n",
      "Trainable params: 34314 (134.04 KB)\n",
      "Non-trainable params: 192 (768.00 Byte)\n",
      "_________________________________________________________________\n"
     ]
    }
   ],
   "source": [
    "import keras\n",
    "\n",
    "model_keras = keras.models.Sequential([\n",
    "    keras.layers.Rescaling(1. / 255, input_shape=(28, 28, 1)),\n",
    "    keras.layers.Conv2D(filters=32, kernel_size=3, strides=2),\n",
    "    keras.layers.BatchNormalization(),\n",
    "    keras.layers.ReLU(),\n",
    "    # Separable layer\n",
    "    keras.layers.DepthwiseConv2D(kernel_size=3, padding='same', strides=2),\n",
    "    keras.layers.Conv2D(filters=64, kernel_size=1, padding='same'),\n",
    "    keras.layers.BatchNormalization(),\n",
    "    keras.layers.ReLU(),\n",
    "    keras.layers.Flatten(),\n",
    "    keras.layers.Dense(10)\n",
    "], 'mnistnet')\n",
    "\n",
    "model_keras.summary()"
   ]
  },
  {
   "cell_type": "code",
   "execution_count": 3,
   "id": "b996fed4",
   "metadata": {},
   "outputs": [
    {
     "name": "stdout",
     "output_type": "stream",
     "text": [
      "Epoch 1/10\n",
      "WARNING:tensorflow:From c:\\Users\\xsb24130\\AppData\\Local\\miniconda3\\envs\\akida-env\\Lib\\site-packages\\keras\\src\\utils\\tf_utils.py:492: The name tf.ragged.RaggedTensorValue is deprecated. Please use tf.compat.v1.ragged.RaggedTensorValue instead.\n",
      "\n",
      "WARNING:tensorflow:From c:\\Users\\xsb24130\\AppData\\Local\\miniconda3\\envs\\akida-env\\Lib\\site-packages\\keras\\src\\engine\\base_layer_utils.py:384: The name tf.executing_eagerly_outside_functions is deprecated. Please use tf.compat.v1.executing_eagerly_outside_functions instead.\n",
      "\n",
      "1688/1688 [==============================] - 12s 5ms/step - loss: 0.1698 - accuracy: 0.9490 - val_loss: 0.0839 - val_accuracy: 0.9762\n",
      "Epoch 2/10\n",
      "1688/1688 [==============================] - 9s 5ms/step - loss: 0.0750 - accuracy: 0.9766 - val_loss: 0.0713 - val_accuracy: 0.9783\n",
      "Epoch 3/10\n",
      "1688/1688 [==============================] - 9s 5ms/step - loss: 0.0518 - accuracy: 0.9832 - val_loss: 0.0694 - val_accuracy: 0.9827\n",
      "Epoch 4/10\n",
      "1688/1688 [==============================] - 9s 5ms/step - loss: 0.0420 - accuracy: 0.9866 - val_loss: 0.0580 - val_accuracy: 0.9843\n",
      "Epoch 5/10\n",
      "1688/1688 [==============================] - 9s 5ms/step - loss: 0.0338 - accuracy: 0.9887 - val_loss: 0.0606 - val_accuracy: 0.9842\n",
      "Epoch 6/10\n",
      "1688/1688 [==============================] - 9s 5ms/step - loss: 0.0285 - accuracy: 0.9903 - val_loss: 0.1031 - val_accuracy: 0.9717\n",
      "Epoch 7/10\n",
      "1688/1688 [==============================] - 8s 5ms/step - loss: 0.0249 - accuracy: 0.9915 - val_loss: 0.0644 - val_accuracy: 0.9840\n",
      "Epoch 8/10\n",
      "1688/1688 [==============================] - 9s 5ms/step - loss: 0.0219 - accuracy: 0.9921 - val_loss: 0.0584 - val_accuracy: 0.9847\n",
      "Epoch 9/10\n",
      "1688/1688 [==============================] - 10s 6ms/step - loss: 0.0179 - accuracy: 0.9938 - val_loss: 0.0564 - val_accuracy: 0.9885\n",
      "Epoch 10/10\n",
      "1688/1688 [==============================] - 10s 6ms/step - loss: 0.0164 - accuracy: 0.9942 - val_loss: 0.0650 - val_accuracy: 0.9848\n"
     ]
    }
   ],
   "source": [
    "from keras.optimizers import Adam\n",
    "\n",
    "model_keras.compile(\n",
    "    loss=keras.losses.SparseCategoricalCrossentropy(from_logits=True),\n",
    "    optimizer=Adam(learning_rate=1e-3),\n",
    "    metrics=['accuracy'])\n",
    "\n",
    "_ = model_keras.fit(x_train, y_train, epochs=10, validation_split=0.1)"
   ]
  },
  {
   "cell_type": "code",
   "execution_count": 4,
   "id": "5dde21f5",
   "metadata": {},
   "outputs": [
    {
     "name": "stdout",
     "output_type": "stream",
     "text": [
      "Test accuracy: 0.986299991607666\n"
     ]
    }
   ],
   "source": [
    "score = model_keras.evaluate(x_test, y_test, verbose=0)\n",
    "print('Test accuracy:', score[1])"
   ]
  },
  {
   "cell_type": "code",
   "execution_count": 5,
   "id": "52bf76f5",
   "metadata": {},
   "outputs": [
    {
     "name": "stderr",
     "output_type": "stream",
     "text": [
      "c:\\Users\\xsb24130\\AppData\\Local\\miniconda3\\envs\\akida-env\\Lib\\site-packages\\onnxscript\\converter.py:816: FutureWarning: 'onnxscript.values.Op.param_schemas' is deprecated in version 0.1 and will be removed in the future. Please use '.op_signature' instead.\n",
      "  param_schemas = callee.param_schemas()\n",
      "c:\\Users\\xsb24130\\AppData\\Local\\miniconda3\\envs\\akida-env\\Lib\\site-packages\\quantizeml\\models\\quantize.py:479: UserWarning: Quantizing per-axis with random calibration samples is not accurate. Set QuantizationParams.per_tensor_activations=True when calibrating with random samples.\n",
      "  warnings.warn(\"Quantizing per-axis with random calibration samples is not accurate. \"\n"
     ]
    },
    {
     "name": "stdout",
     "output_type": "stream",
     "text": [
      "1024/1024 [==============================] - 2s 2ms/step\n"
     ]
    }
   ],
   "source": [
    "from quantizeml.models import quantize, QuantizationParams\n",
    "\n",
    "qparams = QuantizationParams(input_weight_bits=8, weight_bits=8, activation_bits=8)\n",
    "model_quantized = quantize(model_keras, qparams=qparams)"
   ]
  },
  {
   "cell_type": "code",
   "execution_count": 6,
   "id": "8014ae6b",
   "metadata": {},
   "outputs": [
    {
     "name": "stdout",
     "output_type": "stream",
     "text": [
      "Model: \"mnistnet\"\n",
      "_________________________________________________________________\n",
      " Layer (type)                Output Shape              Param #   \n",
      "=================================================================\n",
      " rescaling_input (InputLaye  [(None, 28, 28, 1)]       0         \n",
      " r)                                                              \n",
      "                                                                 \n",
      " rescaling (QuantizedRescal  (None, 28, 28, 1)         0         \n",
      " ing)                                                            \n",
      "                                                                 \n",
      " conv2d (QuantizedConv2D)    (None, 13, 13, 32)        320       \n",
      "                                                                 \n",
      " re_lu (QuantizedReLU)       (None, 13, 13, 32)        64        \n",
      "                                                                 \n",
      " depthwise_conv2d (Quantize  (None, 7, 7, 32)          384       \n",
      " dDepthwiseConv2D)                                               \n",
      "                                                                 \n",
      " conv2d_1 (QuantizedConv2D)  (None, 7, 7, 64)          2112      \n",
      "                                                                 \n",
      " re_lu_1 (QuantizedReLU)     (None, 7, 7, 64)          128       \n",
      "                                                                 \n",
      " flatten (QuantizedFlatten)  (None, 3136)              0         \n",
      "                                                                 \n",
      " dense (QuantizedDense)      (None, 10)                31370     \n",
      "                                                                 \n",
      " dequantizer (Dequantizer)   (None, 10)                0         \n",
      "                                                                 \n",
      "=================================================================\n",
      "Total params: 34378 (134.29 KB)\n",
      "Trainable params: 34122 (133.29 KB)\n",
      "Non-trainable params: 256 (1.00 KB)\n",
      "_________________________________________________________________\n"
     ]
    }
   ],
   "source": [
    "model_quantized.summary()"
   ]
  },
  {
   "cell_type": "code",
   "execution_count": 7,
   "id": "e6cd296d",
   "metadata": {},
   "outputs": [
    {
     "name": "stdout",
     "output_type": "stream",
     "text": [
      "WARNING:tensorflow:From c:\\Users\\xsb24130\\AppData\\Local\\miniconda3\\envs\\akida-env\\Lib\\site-packages\\keras\\src\\optimizers\\__init__.py:309: The name tf.train.Optimizer is deprecated. Please use tf.compat.v1.train.Optimizer instead.\n",
      "\n",
      "Test accuracy after 8-bit quantization: 0.98089998960495\n"
     ]
    }
   ],
   "source": [
    "def compile_evaluate(model):\n",
    "    \"\"\" Compiles and evaluates the model, then return accuracy score. \"\"\"\n",
    "    model.compile(metrics=['accuracy'])\n",
    "    return model.evaluate(x_test, y_test, verbose=0)[1]\n",
    "\n",
    "\n",
    "print('Test accuracy after 8-bit quantization:', compile_evaluate(model_quantized))"
   ]
  },
  {
   "cell_type": "code",
   "execution_count": 8,
   "id": "8ca31a7a",
   "metadata": {},
   "outputs": [
    {
     "name": "stdout",
     "output_type": "stream",
     "text": [
      "11/11 [==============================] - 0s 4ms/step\n",
      "11/11 [==============================] - 0s 3ms/step\n"
     ]
    }
   ],
   "source": [
    "model_quantized = quantize(model_keras, qparams=qparams,\n",
    "                           samples=x_train, num_samples=1024, batch_size=100, epochs=2)"
   ]
  },
  {
   "cell_type": "code",
   "execution_count": 9,
   "id": "bcdf3565",
   "metadata": {},
   "outputs": [
    {
     "name": "stdout",
     "output_type": "stream",
     "text": [
      "Test accuracy after calibration: 0.9818000197410583\n"
     ]
    }
   ],
   "source": [
    "print('Test accuracy after calibration:', compile_evaluate(model_quantized))"
   ]
  },
  {
   "cell_type": "code",
   "execution_count": 10,
   "id": "0bf1ca7b",
   "metadata": {},
   "outputs": [
    {
     "name": "stdout",
     "output_type": "stream",
     "text": [
      "                Model Summary                 \n",
      "______________________________________________\n",
      "Input shape  Output shape  Sequences  Layers\n",
      "==============================================\n",
      "[28, 28, 1]  [1, 1, 10]    1          5     \n",
      "______________________________________________\n",
      "\n",
      "__________________________________________________________________\n",
      "Layer (type)                        Output shape  Kernel shape  \n",
      "\n",
      "=============== SW/conv2d-dequantizer_1 (Software) ===============\n",
      "\n",
      "conv2d (InputConv2D)                [13, 13, 32]  (3, 3, 1, 32) \n",
      "__________________________________________________________________\n",
      "depthwise_conv2d (DepthwiseConv2D)  [7, 7, 32]    (3, 3, 32, 1) \n",
      "__________________________________________________________________\n",
      "conv2d_1 (Conv2D)                   [7, 7, 64]    (1, 1, 32, 64)\n",
      "__________________________________________________________________\n",
      "dense (Dense1D)                     [1, 1, 10]    (3136, 10)    \n",
      "__________________________________________________________________\n",
      "dequantizer_1 (Dequantizer)         [1, 1, 10]    N/A           \n",
      "__________________________________________________________________\n"
     ]
    }
   ],
   "source": [
    "from cnn2snn import convert\n",
    "\n",
    "model_akida = convert(model_quantized)\n",
    "model_akida.summary()"
   ]
  },
  {
   "cell_type": "code",
   "execution_count": 11,
   "id": "e28b8f8e",
   "metadata": {},
   "outputs": [
    {
     "name": "stdout",
     "output_type": "stream",
     "text": [
      "Test accuracy after conversion: 0.9818000197410583\n"
     ]
    }
   ],
   "source": [
    "accuracy = model_akida.evaluate(x_test, y_test)\n",
    "print('Test accuracy after conversion:', accuracy)\n",
    "\n",
    "# For non-regression purposes\n",
    "assert accuracy > 0.96"
   ]
  },
  {
   "cell_type": "code",
   "execution_count": 12,
   "id": "cc003aaa",
   "metadata": {},
   "outputs": [
    {
     "name": "stdout",
     "output_type": "stream",
     "text": [
      "Input Label: 7\n"
     ]
    },
    {
     "data": {
      "image/png": "[encoded data removed]",
      "text/plain": [
       "<Figure size 640x480 with 2 Axes>"
      ]
     },
     "metadata": {},
     "output_type": "display_data"
    },
    {
     "name": "stdout",
     "output_type": "stream",
     "text": [
      "[ -5.089207   -2.5580308  -3.6717827  -0.7360458  -7.458494   -4.6605277\n",
      " -13.40793     5.185287   -3.5716538  -1.2163186]\n"
     ]
    }
   ],
   "source": [
    "# Test a single example\n",
    "sample_image = 0\n",
    "image = x_test[sample_image]\n",
    "outputs = model_akida.predict(image.reshape(1, 28, 28, 1))\n",
    "print('Input Label: %i' % y_test[sample_image])\n",
    "\n",
    "f, axarr = plt.subplots(1, 2)\n",
    "axarr[0].imshow(x_test[sample_image].reshape((28, 28)), cmap=cm.Greys_r)\n",
    "axarr[0].set_title('Class %d' % y_test[sample_image])\n",
    "axarr[1].bar(range(10), outputs.squeeze())\n",
    "axarr[1].set_xticks(range(10))\n",
    "plt.show()\n",
    "\n",
    "print(outputs.squeeze())"
   ]
  },
  {
   "cell_type": "code",
   "execution_count": null,
   "id": "41b7a4bc",
   "metadata": {},
   "outputs": [],
   "source": []
  }
 ],
 "metadata": {
  "kernelspec": {
   "display_name": "akida-env",
   "language": "python",
   "name": "python3"
  },
  "language_info": {
   "codemirror_mode": {
    "name": "ipython",
    "version": 3
   },
   "file_extension": ".py",
   "mimetype": "text/x-python",
   "name": "python",
   "nbconvert_exporter": "python",
   "pygments_lexer": "ipython3",
   "version": "3.11.13"
  }
 },
 "nbformat": 4,
 "nbformat_minor": 5
}
